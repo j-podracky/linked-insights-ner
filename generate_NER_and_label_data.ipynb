{
 "cells": [
  {
   "cell_type": "markdown",
   "metadata": {},
   "source": [
    "# Imports and Setup"
   ]
  },
  {
   "cell_type": "code",
   "execution_count": 10,
   "metadata": {},
   "outputs": [],
   "source": [
    "import pandas as pd\n",
    "import random\n",
    "import re\n",
    "from pathlib import Path\n",
    "from datetime import datetime\n",
    "\n",
    "import spacy\n",
    "from spacy import displacy\n",
    "from spacy.scorer import Scorer\n",
    "from spacy.tokens import DocBin\n",
    "from spacy.training import Example\n",
    "from spacy.util import minibatch\n",
    "from tqdm.notebook import tqdm\n",
    "\n",
    "import matplotlib.pyplot as plt"
   ]
  },
  {
   "cell_type": "markdown",
   "metadata": {
    "id": "Ke0UeCPS6jEB"
   },
   "source": [
    "# Load and Clean data"
   ]
  },
  {
   "cell_type": "code",
   "execution_count": 2,
   "metadata": {
    "colab": {
     "base_uri": "https://localhost:8080/",
     "height": 551
    },
    "id": "8Ick5xY56huV",
    "outputId": "8f454c0f-eeaf-41eb-b849-ecb542404d21"
   },
   "outputs": [
    {
     "data": {
      "text/html": [
       "<div>\n",
       "<style scoped>\n",
       "    .dataframe tbody tr th:only-of-type {\n",
       "        vertical-align: middle;\n",
       "    }\n",
       "\n",
       "    .dataframe tbody tr th {\n",
       "        vertical-align: top;\n",
       "    }\n",
       "\n",
       "    .dataframe thead th {\n",
       "        text-align: right;\n",
       "    }\n",
       "</style>\n",
       "<table border=\"1\" class=\"dataframe\">\n",
       "  <thead>\n",
       "    <tr style=\"text-align: right;\">\n",
       "      <th></th>\n",
       "      <th>job_id</th>\n",
       "      <th>company_name</th>\n",
       "      <th>title</th>\n",
       "      <th>description</th>\n",
       "      <th>max_salary</th>\n",
       "      <th>pay_period</th>\n",
       "      <th>location</th>\n",
       "      <th>company_id</th>\n",
       "      <th>views</th>\n",
       "      <th>med_salary</th>\n",
       "      <th>...</th>\n",
       "      <th>level_senior</th>\n",
       "      <th>level_lead</th>\n",
       "      <th>level_associate</th>\n",
       "      <th>level_manager</th>\n",
       "      <th>level_director</th>\n",
       "      <th>level_principal</th>\n",
       "      <th>level_vice_president</th>\n",
       "      <th>level_chief</th>\n",
       "      <th>level_intern</th>\n",
       "      <th>level_junior</th>\n",
       "    </tr>\n",
       "  </thead>\n",
       "  <tbody>\n",
       "    <tr>\n",
       "      <th>0</th>\n",
       "      <td>921716</td>\n",
       "      <td>Corcoran Sawyer Smith</td>\n",
       "      <td>Marketing Coordinator</td>\n",
       "      <td>Job descriptionA leading real estate firm in N...</td>\n",
       "      <td>20.0</td>\n",
       "      <td>HOURLY</td>\n",
       "      <td>Princeton, NJ</td>\n",
       "      <td>2774458.0</td>\n",
       "      <td>20.0</td>\n",
       "      <td>NaN</td>\n",
       "      <td>...</td>\n",
       "      <td>False</td>\n",
       "      <td>False</td>\n",
       "      <td>False</td>\n",
       "      <td>False</td>\n",
       "      <td>False</td>\n",
       "      <td>False</td>\n",
       "      <td>False</td>\n",
       "      <td>False</td>\n",
       "      <td>False</td>\n",
       "      <td>False</td>\n",
       "    </tr>\n",
       "    <tr>\n",
       "      <th>1</th>\n",
       "      <td>1829192</td>\n",
       "      <td>NaN</td>\n",
       "      <td>Mental Health Therapist/Counselor</td>\n",
       "      <td>At Aspen Therapy and Wellness , we are committ...</td>\n",
       "      <td>50.0</td>\n",
       "      <td>HOURLY</td>\n",
       "      <td>Fort Collins, CO</td>\n",
       "      <td>NaN</td>\n",
       "      <td>1.0</td>\n",
       "      <td>NaN</td>\n",
       "      <td>...</td>\n",
       "      <td>False</td>\n",
       "      <td>False</td>\n",
       "      <td>False</td>\n",
       "      <td>False</td>\n",
       "      <td>False</td>\n",
       "      <td>False</td>\n",
       "      <td>False</td>\n",
       "      <td>False</td>\n",
       "      <td>False</td>\n",
       "      <td>False</td>\n",
       "    </tr>\n",
       "    <tr>\n",
       "      <th>2</th>\n",
       "      <td>10998357</td>\n",
       "      <td>The National Exemplar</td>\n",
       "      <td>Assitant Restaurant Manager</td>\n",
       "      <td>The National Exemplar is accepting application...</td>\n",
       "      <td>65000.0</td>\n",
       "      <td>YEARLY</td>\n",
       "      <td>Cincinnati, OH</td>\n",
       "      <td>64896719.0</td>\n",
       "      <td>8.0</td>\n",
       "      <td>NaN</td>\n",
       "      <td>...</td>\n",
       "      <td>False</td>\n",
       "      <td>False</td>\n",
       "      <td>False</td>\n",
       "      <td>True</td>\n",
       "      <td>False</td>\n",
       "      <td>False</td>\n",
       "      <td>False</td>\n",
       "      <td>False</td>\n",
       "      <td>False</td>\n",
       "      <td>False</td>\n",
       "    </tr>\n",
       "    <tr>\n",
       "      <th>3</th>\n",
       "      <td>23221523</td>\n",
       "      <td>Abrams Fensterman, LLP</td>\n",
       "      <td>Senior Elder Law / Trusts and Estates Associat...</td>\n",
       "      <td>Senior Associate Attorney - Elder Law / Trusts...</td>\n",
       "      <td>175000.0</td>\n",
       "      <td>YEARLY</td>\n",
       "      <td>New Hyde Park, NY</td>\n",
       "      <td>766262.0</td>\n",
       "      <td>16.0</td>\n",
       "      <td>NaN</td>\n",
       "      <td>...</td>\n",
       "      <td>False</td>\n",
       "      <td>False</td>\n",
       "      <td>True</td>\n",
       "      <td>False</td>\n",
       "      <td>False</td>\n",
       "      <td>False</td>\n",
       "      <td>False</td>\n",
       "      <td>False</td>\n",
       "      <td>False</td>\n",
       "      <td>False</td>\n",
       "    </tr>\n",
       "    <tr>\n",
       "      <th>4</th>\n",
       "      <td>35982263</td>\n",
       "      <td>NaN</td>\n",
       "      <td>Service Technician</td>\n",
       "      <td>Looking for HVAC service tech with experience ...</td>\n",
       "      <td>80000.0</td>\n",
       "      <td>YEARLY</td>\n",
       "      <td>Burlington, IA</td>\n",
       "      <td>NaN</td>\n",
       "      <td>3.0</td>\n",
       "      <td>NaN</td>\n",
       "      <td>...</td>\n",
       "      <td>False</td>\n",
       "      <td>False</td>\n",
       "      <td>False</td>\n",
       "      <td>False</td>\n",
       "      <td>False</td>\n",
       "      <td>False</td>\n",
       "      <td>False</td>\n",
       "      <td>False</td>\n",
       "      <td>False</td>\n",
       "      <td>False</td>\n",
       "    </tr>\n",
       "  </tbody>\n",
       "</table>\n",
       "<p>5 rows × 47 columns</p>\n",
       "</div>"
      ],
      "text/plain": [
       "     job_id            company_name  \\\n",
       "0    921716   Corcoran Sawyer Smith   \n",
       "1   1829192                     NaN   \n",
       "2  10998357  The National Exemplar    \n",
       "3  23221523  Abrams Fensterman, LLP   \n",
       "4  35982263                     NaN   \n",
       "\n",
       "                                               title  \\\n",
       "0                              Marketing Coordinator   \n",
       "1                  Mental Health Therapist/Counselor   \n",
       "2                        Assitant Restaurant Manager   \n",
       "3  Senior Elder Law / Trusts and Estates Associat...   \n",
       "4                                 Service Technician   \n",
       "\n",
       "                                         description  max_salary pay_period  \\\n",
       "0  Job descriptionA leading real estate firm in N...        20.0     HOURLY   \n",
       "1  At Aspen Therapy and Wellness , we are committ...        50.0     HOURLY   \n",
       "2  The National Exemplar is accepting application...     65000.0     YEARLY   \n",
       "3  Senior Associate Attorney - Elder Law / Trusts...    175000.0     YEARLY   \n",
       "4  Looking for HVAC service tech with experience ...     80000.0     YEARLY   \n",
       "\n",
       "            location  company_id  views  med_salary  ...  level_senior  \\\n",
       "0      Princeton, NJ   2774458.0   20.0         NaN  ...         False   \n",
       "1   Fort Collins, CO         NaN    1.0         NaN  ...         False   \n",
       "2     Cincinnati, OH  64896719.0    8.0         NaN  ...         False   \n",
       "3  New Hyde Park, NY    766262.0   16.0         NaN  ...         False   \n",
       "4     Burlington, IA         NaN    3.0         NaN  ...         False   \n",
       "\n",
       "  level_lead  level_associate  level_manager  level_director level_principal  \\\n",
       "0      False            False          False           False           False   \n",
       "1      False            False          False           False           False   \n",
       "2      False            False           True           False           False   \n",
       "3      False             True          False           False           False   \n",
       "4      False            False          False           False           False   \n",
       "\n",
       "  level_vice_president level_chief  level_intern  level_junior  \n",
       "0                False       False         False         False  \n",
       "1                False       False         False         False  \n",
       "2                False       False         False         False  \n",
       "3                False       False         False         False  \n",
       "4                False       False         False         False  \n",
       "\n",
       "[5 rows x 47 columns]"
      ]
     },
     "execution_count": 2,
     "metadata": {},
     "output_type": "execute_result"
    }
   ],
   "source": [
    "postings = pd.read_csv('data/postings_cleaned.csv')\n",
    "postings.head()"
   ]
  },
  {
   "cell_type": "markdown",
   "metadata": {
    "id": "yQXWYCRj6x5R"
   },
   "source": [
    "# Create custom SKILL NER (named-entity recognition) model"
   ]
  },
  {
   "cell_type": "code",
   "execution_count": 3,
   "metadata": {
    "colab": {
     "base_uri": "https://localhost:8080/"
    },
    "id": "2360ea6c",
    "outputId": "bb8c84b5-29c3-434b-ff7b-61ace7dbe3df"
   },
   "outputs": [
    {
     "name": "stdout",
     "output_type": "stream",
     "text": [
      "/usr/local/opt/python@3.12/bin/python3.12: No module named spacy\n"
     ]
    }
   ],
   "source": [
    "!python3.12 -m spacy download en_core_web_lg"
   ]
  },
  {
   "cell_type": "code",
   "execution_count": 4,
   "metadata": {
    "colab": {
     "base_uri": "https://localhost:8080/"
    },
    "id": "VZDEq688-Azv",
    "outputId": "e778b3fc-b5d5-40ec-ec3d-fc1d348c41a6"
   },
   "outputs": [
    {
     "name": "stdout",
     "output_type": "stream",
     "text": [
      "Requirement already satisfied: spacy-lookups-data in /Users/jen/torch-env/lib/python3.12/site-packages (1.0.5)\n",
      "Requirement already satisfied: setuptools in /Users/jen/torch-env/lib/python3.12/site-packages (from spacy-lookups-data) (80.9.0)\n",
      "Note: you may need to restart the kernel to use updated packages.\n"
     ]
    }
   ],
   "source": [
    "%pip install -U spacy-lookups-data"
   ]
  },
  {
   "cell_type": "markdown",
   "metadata": {},
   "source": [
    "## Create weakly-labeled training data set"
   ]
  },
  {
   "cell_type": "markdown",
   "metadata": {},
   "source": [
    "I am personally familiar with software, data scientist and bioscientist roles, so rather than manually label the dataset postings, I will create a list of known skills for these roles and weakly label a subset of data and bioscientist postings to provide to the model for training."
   ]
  },
  {
   "cell_type": "code",
   "execution_count": 5,
   "metadata": {
    "id": "tzD1dXc4gLUA"
   },
   "outputs": [],
   "source": [
    "def weak_label_skills(text, skill_list):\n",
    "    matches = []\n",
    "    for skill in skill_list:\n",
    "        for m in re.finditer(rf\"\\b{skill}\\b\", text, flags=re.IGNORECASE):\n",
    "            matches.append((m.start(), m.end(), \"SKILL\"))\n",
    "    return matches"
   ]
  },
  {
   "cell_type": "code",
   "execution_count": 6,
   "metadata": {
    "id": "ZUjxz4bNj5aP"
   },
   "outputs": [],
   "source": [
    "general_skills = [\n",
    "    \"microsoft office\", 'teamwork', 'collaboration', 'communication', 'attention to detail', \n",
    "    'critical thinking', 'problem-solving', 'project management', \n",
    "]\n",
    "\n",
    "software_skills = [\n",
    "    \"python\", \"java\", \"sql\", \"javascript\", \"html\", \"css\", \"ruby\", \"spark\",\n",
    "    \"pyspark\", \"nosql\", \"mongodb\", \"hadoop\", \"postgresql\",\n",
    "    \"docker\", \"aws\", \"azure\", \"adobe\", \"jira\", \"databricks\", \"dbt\",\n",
    "    \"excel\", \"object-oriented programming\"\n",
    "]\n",
    "\n",
    "datascience_skills = [\n",
    "    \"machine learning\", \"data analysis\",  \"deep learning\", \"feature extraction\", \n",
    "    \"statistics\", \"statistical analysis\", \"probability\", \"experimental design\",\n",
    "    \"neural networks\", \"lightgbm\", \"xgboost\", \"catboost\", \"pytorch\", \"tensorflow\", \"keras\",\n",
    "    \"scikit-learn\", \"spacy\", \"nltk\", \"vader\", \"pandas\", \"numpy\", \"matplotlib\",\n",
    "    \"nlp\", \"natural language processing\", \"text mining\", \"text analysis\",\n",
    "    \"genai\", \"openai\", \"generative ai\", \"claude\", \"llama\", \"chatgpt\", \"langchain\"\n",
    "]\n",
    "\n",
    "datavis_skills = [\n",
    "    \"data visualization\", \"tableau\", \"powerbi\", \"power bi\", \"looker\", \"plotly\", \n",
    "    \"qlik sense\", \"d3.js\", \"domo\", \"zoho analytics\", \"Sisense\"\n",
    "]\n",
    "\n",
    "scientist_skills = [\n",
    "    \"PCR\", \"Western blot\", \"flow cytometry\", \"CRISPR\", \"GraphPad Prism\", \"prime editing\",\n",
    "    \"Illumina\", \"cell culture\", \"next-generation sequencing\", \"ngs\", \"molecular cloning\",\n",
    "    \"gene editing\", \"ELISA\", \"bioconjugation\", \"protein purification\", \"yeast display\", \"genious\",\n",
    "    \"snapgene\", \"ChimeraX\", \"pymol\", \"crispresso2\", \"polymerase chain reaction\", \"electrophoresis\"\n",
    "]\n",
    "\n",
    "\n",
    "SKILLS_LIST = list(set(general_skills + software_skills + datascience_skills + datavis_skills + scientist_skills))"
   ]
  },
  {
   "cell_type": "code",
   "execution_count": 7,
   "metadata": {
    "colab": {
     "base_uri": "https://localhost:8080/"
    },
    "id": "EdYLMjmMlynt",
    "outputId": "f2ff817f-5dc8-4880-ae0b-8a14de2d5e2d"
   },
   "outputs": [
    {
     "name": "stdout",
     "output_type": "stream",
     "text": [
      "14889 matching engineer, scientist, or analyst postings\n"
     ]
    }
   ],
   "source": [
    "bootstrap_skills_set = postings[\n",
    "    ( postings['title_normalized'].str.contains(\"engineer\", na=False) )\n",
    "    | ( postings['title_normalized'].str.contains(\"scientist\", na=False) )\n",
    "    | ( postings['title_normalized'].str.contains(\"analyst\", na=False) )\n",
    "\n",
    "]\n",
    "print(f\"{len(bootstrap_skills_set)} matching engineer, scientist, or analyst postings\")"
   ]
  },
  {
   "cell_type": "code",
   "execution_count": 16,
   "metadata": {
    "colab": {
     "base_uri": "https://localhost:8080/"
    },
    "id": "ONNxVUfurImx",
    "outputId": "a10cd6e3-1c46-4f96-89ed-d63efdf2d071"
   },
   "outputs": [
    {
     "name": "stdout",
     "output_type": "stream",
     "text": [
      "generated 1000 training examples, 1000 test examples\n"
     ]
    }
   ],
   "source": [
    "matching_postings = []\n",
    "\n",
    "# shuffle to remove any ordering/sorting bias (in which kinds of jobs end up in training set)\n",
    "bootstrap_skills_set = bootstrap_skills_set.sample(frac=1, random_state=42)\n",
    "\n",
    "for description in bootstrap_skills_set['description'].dropna().unique():\n",
    "    entity_list = weak_label_skills(description, SKILLS_LIST)\n",
    "    if len(entity_list) > 0:\n",
    "      matching_postings.append((description, {\"entities\": entity_list}))\n",
    "\n",
    "split_index = 1000\n",
    "TRAIN_DATA = matching_postings[:split_index]\n",
    "TEST_DATA = matching_postings[split_index:split_index+1000]\n",
    "\n",
    "print(f\"generated {len(TRAIN_DATA)} training examples, {len(TEST_DATA)} test examples\")"
   ]
  },
  {
   "cell_type": "markdown",
   "metadata": {},
   "source": [
    "## Initialize and train NER model"
   ]
  },
  {
   "cell_type": "code",
   "execution_count": 17,
   "metadata": {
    "colab": {
     "base_uri": "https://localhost:8080/",
     "height": 103,
     "referenced_widgets": [
      "c09f0b34a7b64c77a634d8360cf911b1",
      "e481f78c8ea3438d972be8dd0a506c2e",
      "93a2ef218e444f18891afe78699b3659",
      "cb87c4ee1c6f4469a9028668adc575b7",
      "7df4c648a5df4485a8568cc1076ea857",
      "5f554ee89bc549e7b167c8258b28a06c",
      "d89f864107de4c898c61c5edf9fd75fb",
      "5ff327cda26941b2998aab10096b9f5d",
      "20c17bf3218748b695b7d1e2a94ebc73",
      "055b940ae3b1448c8fb5b9b38d3e04df",
      "a1a9d14c9d8b4b13b438a7e02a7be3d0"
     ]
    },
    "id": "mWCneMVj60uN",
    "outputId": "8c8fc6e4-ab08-4719-d2d8-3be654ce1975"
   },
   "outputs": [
    {
     "data": {
      "application/vnd.jupyter.widget-view+json": {
       "model_id": "5f77f7070de24a08984daf79f5c80efb",
       "version_major": 2,
       "version_minor": 0
      },
      "text/plain": [
       "  0%|          | 0/10 [00:00<?, ?it/s]"
      ]
     },
     "metadata": {},
     "output_type": "display_data"
    }
   ],
   "source": [
    "import warnings\n",
    "warnings.filterwarnings(\"ignore\")\n",
    "\n",
    "nlp = spacy.load(\"en_core_web_lg\")\n",
    "ner = nlp.get_pipe(\"ner\")\n",
    "ner.add_label(\"SKILL\")\n",
    "\n",
    "examples = []\n",
    "for text, annots in TRAIN_DATA:\n",
    "    doc = nlp.make_doc(text)\n",
    "    example = Example.from_dict(doc, annots)\n",
    "    examples.append(example)\n",
    "\n",
    "n_iter = 10 \n",
    "dropout = 0.2\n",
    "batch_size = 8\n",
    "\n",
    "optimizer = nlp.create_optimizer()\n",
    "\n",
    "losses_list = []\n",
    "\n",
    "for i in tqdm(range(n_iter)):\n",
    "    random.shuffle(examples)\n",
    "    losses = {}\n",
    "    batches = minibatch(examples, size=batch_size)\n",
    "    for batch in batches:\n",
    "        nlp.update(batch, sgd=optimizer, drop=dropout, losses=losses)\n",
    "    losses_list.append(losses.get(\"ner\", 0))\n"
   ]
  },
  {
   "cell_type": "code",
   "execution_count": 18,
   "metadata": {
    "colab": {
     "base_uri": "https://localhost:8080/",
     "height": 472
    },
    "id": "COm7Uc_fOPLO",
    "outputId": "7592d0f5-e63c-4d66-c6ed-1f4be20f682b"
   },
   "outputs": [
    {
     "data": {
      "image/png": "[encoded data removed]",
      "text/plain": [
       "<Figure size 640x480 with 1 Axes>"
      ]
     },
     "metadata": {},
     "output_type": "display_data"
    }
   ],
   "source": [
    "plt.plot(losses_list)\n",
    "plt.title(\"NER Training Loss Over Epochs\")\n",
    "plt.xlabel(\"Epoch\")\n",
    "plt.ylabel(\"Loss\")\n",
    "plt.grid(True)\n",
    "plt.show()"
   ]
  },
  {
   "cell_type": "code",
   "execution_count": 21,
   "metadata": {
    "colab": {
     "base_uri": "https://localhost:8080/"
    },
    "id": "SFdCYDi1OSDy",
    "outputId": "03052a6c-1f06-4e61-fd61-04e5b1080544"
   },
   "outputs": [
    {
     "data": {
      "text/plain": [
       "(0.9938328003654637, 0.9913419913419913, 0.99258583323828)"
      ]
     },
     "execution_count": 21,
     "metadata": {},
     "output_type": "execute_result"
    }
   ],
   "source": [
    "def evaluate(nlp_model, data):\n",
    "    scorer = Scorer()\n",
    "    examples = []\n",
    "    for text, annotations in data:\n",
    "        doc = nlp_model(text)\n",
    "        example = Example.from_dict(doc, annotations)\n",
    "        examples.append(example)\n",
    "\n",
    "    return scorer.score(examples)\n",
    "\n",
    "scores = evaluate(nlp, TEST_DATA)\n",
    "scores[\"ents_p\"], scores[\"ents_r\"], scores[\"ents_f\"]"
   ]
  },
  {
   "cell_type": "code",
   "execution_count": 19,
   "metadata": {
    "colab": {
     "base_uri": "https://localhost:8080/",
     "height": 70
    },
    "id": "5_kJgk_YVw35",
    "outputId": "abe22c44-7398-4d16-d3f9-9061839c70ba"
   },
   "outputs": [
    {
     "name": "stdout",
     "output_type": "stream",
     "text": [
      "[('Python', 'SKILL'), ('SQL', 'SKILL'), ('data visualization', 'SKILL'), ('Tableau', 'SKILL'), ('Power BI', 'SKILL')]\n"
     ]
    }
   ],
   "source": [
    "test_text = \"We need someone fluent in Python, R, and SQL. Experience with data visualization tools like Tableau, Power BI, or Chartviz a plus.\"\n",
    "doc = nlp(test_text)\n",
    "\n",
    "print([(ent.text, ent.label_) for ent in doc.ents])"
   ]
  },
  {
   "cell_type": "code",
   "execution_count": 20,
   "metadata": {
    "colab": {
     "base_uri": "https://localhost:8080/"
    },
    "id": "X2KwCLj37IPd",
    "outputId": "45246e13-294e-4154-fca2-421c07480728"
   },
   "outputs": [],
   "source": [
    "output_dir = Path(\"models/ner_skill_model\")\n",
    "output_dir.mkdir(parents=True, exist_ok=True)\n",
    "nlp.to_disk(output_dir)"
   ]
  },
  {
   "cell_type": "markdown",
   "metadata": {
    "id": "yD_60pgaqKhq"
   },
   "source": [
    "# Extract skills from postings data with new NER model\n"
   ]
  },
  {
   "cell_type": "code",
   "execution_count": 22,
   "metadata": {
    "id": "hRojnY75rMKQ"
   },
   "outputs": [],
   "source": [
    "nlp = spacy.load(Path(\"models/ner_skill_model\"))"
   ]
  },
  {
   "cell_type": "code",
   "execution_count": 23,
   "metadata": {
    "id": "RoIyXx2hrhpP"
   },
   "outputs": [],
   "source": [
    "def extract_skills(nlp, text):\n",
    "    \"\"\"\n",
    "    Run the NER model on text and extract entities labeled as 'SKILL'.\n",
    "    \"\"\"\n",
    "    doc = nlp(text)\n",
    "    skills = [ent.text for ent in doc.ents if ent.label_ == \"SKILL\"]\n",
    "    return list(set(skills))"
   ]
  },
  {
   "cell_type": "code",
   "execution_count": 24,
   "metadata": {
    "colab": {
     "base_uri": "https://localhost:8080/"
    },
    "id": "zeYwBHV_B7BX",
    "outputId": "5a37a0ac-f6d9-4467-d18b-4b388eb78d59"
   },
   "outputs": [
    {
     "name": "stdout",
     "output_type": "stream",
     "text": [
      "107828\n"
     ]
    }
   ],
   "source": [
    "postings_with_skills = postings.copy()\n",
    "print(len(postings_with_skills))"
   ]
  },
  {
   "cell_type": "code",
   "execution_count": 46,
   "metadata": {
    "colab": {
     "base_uri": "https://localhost:8080/"
    },
    "id": "YreByAwIB7wL",
    "outputId": "98598a1a-5fda-4cda-9b72-5d755d6439a8"
   },
   "outputs": [
    {
     "name": "stdout",
     "output_type": "stream",
     "text": [
      "2025-10-17 17:36:05.312791\n",
      "2025-10-17 17:37:18.396227: processed 1000 descriptions\n",
      "2025-10-17 17:38:43.700180: processed 2000 descriptions\n",
      "2025-10-17 17:40:16.539442: processed 3000 descriptions\n",
      "2025-10-17 17:41:41.869773: processed 4000 descriptions\n",
      "2025-10-17 17:43:24.579663: processed 5000 descriptions\n",
      "2025-10-17 17:44:29.120128: processed 6000 descriptions\n",
      "2025-10-17 17:46:13.529933: processed 7000 descriptions\n",
      "2025-10-17 17:47:51.262624: processed 8000 descriptions\n",
      "2025-10-17 17:49:30.804686: processed 9000 descriptions\n",
      "2025-10-17 17:50:47.810955: processed 10000 descriptions\n",
      "2025-10-17 17:52:24.875250: processed 11000 descriptions\n",
      "2025-10-17 17:54:04.044355: processed 12000 descriptions\n",
      "2025-10-17 17:55:37.489905: processed 13000 descriptions\n",
      "2025-10-17 17:57:26.183633: processed 14000 descriptions\n",
      "2025-10-17 17:58:57.832974: processed 15000 descriptions\n",
      "2025-10-17 18:00:11.744452: processed 16000 descriptions\n",
      "2025-10-17 18:01:44.604687: processed 17000 descriptions\n",
      "2025-10-17 18:03:24.014019: processed 18000 descriptions\n",
      "2025-10-17 18:05:03.987153: processed 19000 descriptions\n",
      "2025-10-17 18:06:32.001841: processed 20000 descriptions\n",
      "2025-10-17 18:07:30.110537: processed 21000 descriptions\n",
      "2025-10-17 18:08:43.259923: processed 22000 descriptions\n",
      "2025-10-17 18:09:53.563145: processed 23000 descriptions\n",
      "2025-10-17 18:11:11.366126: processed 24000 descriptions\n",
      "2025-10-17 18:12:46.365557: processed 25000 descriptions\n",
      "2025-10-17 18:14:08.431953: processed 26000 descriptions\n",
      "2025-10-17 18:15:35.647715: processed 27000 descriptions\n",
      "2025-10-17 18:17:13.284389: processed 28000 descriptions\n",
      "2025-10-17 18:18:38.239285: processed 29000 descriptions\n",
      "2025-10-17 18:19:50.191209: processed 30000 descriptions\n",
      "2025-10-17 18:21:21.435744: processed 31000 descriptions\n",
      "2025-10-17 18:23:05.365552: processed 32000 descriptions\n",
      "2025-10-17 18:24:43.742003: processed 33000 descriptions\n",
      "2025-10-17 18:26:12.203673: processed 34000 descriptions\n",
      "2025-10-17 18:27:29.419872: processed 35000 descriptions\n",
      "2025-10-17 18:28:55.552392: processed 36000 descriptions\n",
      "2025-10-17 18:30:08.196806: processed 37000 descriptions\n",
      "2025-10-17 18:31:24.624877: processed 38000 descriptions\n",
      "2025-10-17 18:32:51.724165: processed 39000 descriptions\n",
      "2025-10-17 18:34:30.485661: processed 40000 descriptions\n",
      "2025-10-17 18:36:04.483718: processed 41000 descriptions\n",
      "2025-10-17 18:37:35.483691: processed 42000 descriptions\n",
      "2025-10-17 18:39:02.262407: processed 43000 descriptions\n",
      "2025-10-17 18:40:19.118521: processed 44000 descriptions\n",
      "2025-10-17 18:41:54.912344: processed 45000 descriptions\n",
      "2025-10-17 18:43:16.795042: processed 46000 descriptions\n",
      "2025-10-17 18:44:32.088914: processed 47000 descriptions\n",
      "2025-10-17 18:46:06.028204: processed 48000 descriptions\n",
      "2025-10-17 18:47:39.889419: processed 49000 descriptions\n",
      "2025-10-17 18:48:59.087831: processed 50000 descriptions\n",
      "2025-10-17 18:50:23.889835: processed 51000 descriptions\n",
      "2025-10-17 18:51:56.776487: processed 52000 descriptions\n",
      "2025-10-17 18:53:33.983163: processed 53000 descriptions\n",
      "2025-10-17 18:55:02.676667: processed 54000 descriptions\n",
      "2025-10-17 18:56:46.272127: processed 55000 descriptions\n",
      "2025-10-17 18:58:14.418000: processed 56000 descriptions\n",
      "2025-10-17 18:59:27.338121: processed 57000 descriptions\n",
      "2025-10-17 19:00:57.072874: processed 58000 descriptions\n",
      "2025-10-17 19:02:40.810131: processed 59000 descriptions\n",
      "2025-10-17 19:04:31.992078: processed 60000 descriptions\n",
      "2025-10-17 19:06:11.525456: processed 61000 descriptions\n",
      "2025-10-17 19:07:29.272915: processed 62000 descriptions\n",
      "2025-10-17 19:08:56.994816: processed 63000 descriptions\n",
      "2025-10-17 19:10:35.352061: processed 64000 descriptions\n",
      "2025-10-17 19:11:58.511947: processed 65000 descriptions\n",
      "2025-10-17 19:13:28.992186: processed 66000 descriptions\n",
      "2025-10-17 19:14:56.795110: processed 67000 descriptions\n",
      "2025-10-17 19:16:31.937590: processed 68000 descriptions\n",
      "2025-10-17 19:17:57.190965: processed 69000 descriptions\n",
      "2025-10-17 19:19:35.006065: processed 70000 descriptions\n",
      "2025-10-17 19:21:19.387962: processed 71000 descriptions\n",
      "2025-10-17 19:23:04.929109: processed 72000 descriptions\n",
      "2025-10-17 19:24:51.653488: processed 73000 descriptions\n",
      "2025-10-17 19:26:24.873199: processed 74000 descriptions\n",
      "2025-10-17 19:27:51.975207: processed 75000 descriptions\n",
      "2025-10-17 19:29:36.388816: processed 76000 descriptions\n",
      "2025-10-17 19:31:22.662887: processed 77000 descriptions\n",
      "2025-10-17 19:33:12.532615: processed 78000 descriptions\n",
      "2025-10-17 19:34:46.224094: processed 79000 descriptions\n",
      "2025-10-17 19:36:24.098273: processed 80000 descriptions\n",
      "2025-10-17 19:37:45.948042: processed 81000 descriptions\n",
      "2025-10-17 19:39:22.825307: processed 82000 descriptions\n",
      "2025-10-17 19:41:08.570865: processed 83000 descriptions\n",
      "2025-10-17 19:42:50.496996: processed 84000 descriptions\n",
      "2025-10-17 19:44:24.486399: processed 85000 descriptions\n",
      "2025-10-17 19:45:46.968774: processed 86000 descriptions\n",
      "2025-10-17 19:47:06.748235: processed 87000 descriptions\n",
      "2025-10-17 19:48:38.251472: processed 88000 descriptions\n",
      "2025-10-17 19:49:59.372220: processed 89000 descriptions\n",
      "2025-10-17 19:51:09.594167: processed 90000 descriptions\n",
      "2025-10-17 19:52:38.415754: processed 91000 descriptions\n",
      "2025-10-17 19:54:12.087522: processed 92000 descriptions\n",
      "2025-10-17 19:55:48.145682: processed 93000 descriptions\n",
      "2025-10-17 19:57:30.888255: processed 94000 descriptions\n",
      "2025-10-17 19:59:22.134971: processed 95000 descriptions\n",
      "2025-10-17 20:00:56.649362: processed 96000 descriptions\n",
      "2025-10-17 20:02:35.744672: processed 97000 descriptions\n",
      "2025-10-17 20:04:22.182647: processed 98000 descriptions\n",
      "2025-10-17 20:06:01.218119: processed 99000 descriptions\n",
      "2025-10-17 20:07:34.746096: processed 100000 descriptions\n",
      "2025-10-17 20:08:49.164439: processed 101000 descriptions\n",
      "2025-10-17 20:10:18.616092: processed 102000 descriptions\n",
      "2025-10-17 20:11:35.792127: processed 103000 descriptions\n",
      "2025-10-17 20:13:04.717399: processed 104000 descriptions\n",
      "2025-10-17 20:14:51.905604: processed 105000 descriptions\n",
      "2025-10-17 20:16:42.038714: processed 106000 descriptions\n",
      "2025-10-17 20:18:36.109346: processed 107000 descriptions\n"
     ]
    }
   ],
   "source": [
    "extracted_skills = []\n",
    "processed_descriptions = 0\n",
    "print(f\"starting now: {datetime.now().strftime('%m/%d %H:%M:%S')}\")\n",
    "for post in postings_with_skills['description']:\n",
    "    extracted_skills.append( extract_skills(nlp, str(post)))\n",
    "    processed_descriptions += 1\n",
    "    if processed_descriptions % 5000 == 0:\n",
    "        print(f\"{datetime.now().strftime('%m/%d %H:%M:%S')}: processed {processed_descriptions} descriptions\")\n",
    "print(f\"finished: {datetime.now().strftime('%m/%d %H:%M:%S')}\")"
   ]
  },
  {
   "cell_type": "code",
   "execution_count": 47,
   "metadata": {
    "colab": {
     "base_uri": "https://localhost:8080/",
     "height": 551
    },
    "id": "0obVzmShGVOT",
    "outputId": "ac0838d1-84b7-4dbd-bf9b-89127e311c52"
   },
   "outputs": [
    {
     "data": {
      "text/html": [
       "<div>\n",
       "<style scoped>\n",
       "    .dataframe tbody tr th:only-of-type {\n",
       "        vertical-align: middle;\n",
       "    }\n",
       "\n",
       "    .dataframe tbody tr th {\n",
       "        vertical-align: top;\n",
       "    }\n",
       "\n",
       "    .dataframe thead th {\n",
       "        text-align: right;\n",
       "    }\n",
       "</style>\n",
       "<table border=\"1\" class=\"dataframe\">\n",
       "  <thead>\n",
       "    <tr style=\"text-align: right;\">\n",
       "      <th></th>\n",
       "      <th>job_id</th>\n",
       "      <th>company_name</th>\n",
       "      <th>title</th>\n",
       "      <th>description</th>\n",
       "      <th>pay_period</th>\n",
       "      <th>location</th>\n",
       "      <th>company_id</th>\n",
       "      <th>views</th>\n",
       "      <th>formatted_work_type</th>\n",
       "      <th>applies</th>\n",
       "      <th>...</th>\n",
       "      <th>level_lead</th>\n",
       "      <th>level_associate</th>\n",
       "      <th>level_manager</th>\n",
       "      <th>level_director</th>\n",
       "      <th>level_principal</th>\n",
       "      <th>level_vice_president</th>\n",
       "      <th>level_chief</th>\n",
       "      <th>level_intern</th>\n",
       "      <th>level_junior</th>\n",
       "      <th>extracted_skills</th>\n",
       "    </tr>\n",
       "  </thead>\n",
       "  <tbody>\n",
       "    <tr>\n",
       "      <th>0</th>\n",
       "      <td>921716</td>\n",
       "      <td>Corcoran Sawyer Smith</td>\n",
       "      <td>Marketing Coordinator</td>\n",
       "      <td>Job descriptionA leading real estate firm in N...</td>\n",
       "      <td>HOURLY</td>\n",
       "      <td>Princeton, NJ</td>\n",
       "      <td>2774458.0</td>\n",
       "      <td>20.0</td>\n",
       "      <td>Full-time</td>\n",
       "      <td>2.0</td>\n",
       "      <td>...</td>\n",
       "      <td>False</td>\n",
       "      <td>False</td>\n",
       "      <td>False</td>\n",
       "      <td>False</td>\n",
       "      <td>False</td>\n",
       "      <td>False</td>\n",
       "      <td>False</td>\n",
       "      <td>False</td>\n",
       "      <td>False</td>\n",
       "      <td>[Microsoft Office, Adobe]</td>\n",
       "    </tr>\n",
       "    <tr>\n",
       "      <th>1</th>\n",
       "      <td>1829192</td>\n",
       "      <td>NaN</td>\n",
       "      <td>Mental Health Therapist/Counselor</td>\n",
       "      <td>At Aspen Therapy and Wellness , we are committ...</td>\n",
       "      <td>HOURLY</td>\n",
       "      <td>Fort Collins, CO</td>\n",
       "      <td>NaN</td>\n",
       "      <td>1.0</td>\n",
       "      <td>Full-time</td>\n",
       "      <td>NaN</td>\n",
       "      <td>...</td>\n",
       "      <td>False</td>\n",
       "      <td>False</td>\n",
       "      <td>False</td>\n",
       "      <td>False</td>\n",
       "      <td>False</td>\n",
       "      <td>False</td>\n",
       "      <td>False</td>\n",
       "      <td>False</td>\n",
       "      <td>False</td>\n",
       "      <td>[]</td>\n",
       "    </tr>\n",
       "    <tr>\n",
       "      <th>2</th>\n",
       "      <td>10998357</td>\n",
       "      <td>The National Exemplar</td>\n",
       "      <td>Assitant Restaurant Manager</td>\n",
       "      <td>The National Exemplar is accepting application...</td>\n",
       "      <td>YEARLY</td>\n",
       "      <td>Cincinnati, OH</td>\n",
       "      <td>64896719.0</td>\n",
       "      <td>8.0</td>\n",
       "      <td>Full-time</td>\n",
       "      <td>NaN</td>\n",
       "      <td>...</td>\n",
       "      <td>False</td>\n",
       "      <td>False</td>\n",
       "      <td>True</td>\n",
       "      <td>False</td>\n",
       "      <td>False</td>\n",
       "      <td>False</td>\n",
       "      <td>False</td>\n",
       "      <td>False</td>\n",
       "      <td>False</td>\n",
       "      <td>[]</td>\n",
       "    </tr>\n",
       "    <tr>\n",
       "      <th>3</th>\n",
       "      <td>23221523</td>\n",
       "      <td>Abrams Fensterman, LLP</td>\n",
       "      <td>Senior Elder Law / Trusts and Estates Associat...</td>\n",
       "      <td>Senior Associate Attorney - Elder Law / Trusts...</td>\n",
       "      <td>YEARLY</td>\n",
       "      <td>New Hyde Park, NY</td>\n",
       "      <td>766262.0</td>\n",
       "      <td>16.0</td>\n",
       "      <td>Full-time</td>\n",
       "      <td>NaN</td>\n",
       "      <td>...</td>\n",
       "      <td>False</td>\n",
       "      <td>True</td>\n",
       "      <td>False</td>\n",
       "      <td>False</td>\n",
       "      <td>False</td>\n",
       "      <td>False</td>\n",
       "      <td>False</td>\n",
       "      <td>False</td>\n",
       "      <td>False</td>\n",
       "      <td>[]</td>\n",
       "    </tr>\n",
       "    <tr>\n",
       "      <th>4</th>\n",
       "      <td>35982263</td>\n",
       "      <td>NaN</td>\n",
       "      <td>Service Technician</td>\n",
       "      <td>Looking for HVAC service tech with experience ...</td>\n",
       "      <td>YEARLY</td>\n",
       "      <td>Burlington, IA</td>\n",
       "      <td>NaN</td>\n",
       "      <td>3.0</td>\n",
       "      <td>Full-time</td>\n",
       "      <td>NaN</td>\n",
       "      <td>...</td>\n",
       "      <td>False</td>\n",
       "      <td>False</td>\n",
       "      <td>False</td>\n",
       "      <td>False</td>\n",
       "      <td>False</td>\n",
       "      <td>False</td>\n",
       "      <td>False</td>\n",
       "      <td>False</td>\n",
       "      <td>False</td>\n",
       "      <td>[]</td>\n",
       "    </tr>\n",
       "  </tbody>\n",
       "</table>\n",
       "<p>5 rows × 37 columns</p>\n",
       "</div>"
      ],
      "text/plain": [
       "     job_id            company_name  \\\n",
       "0    921716   Corcoran Sawyer Smith   \n",
       "1   1829192                     NaN   \n",
       "2  10998357  The National Exemplar    \n",
       "3  23221523  Abrams Fensterman, LLP   \n",
       "4  35982263                     NaN   \n",
       "\n",
       "                                               title  \\\n",
       "0                              Marketing Coordinator   \n",
       "1                  Mental Health Therapist/Counselor   \n",
       "2                        Assitant Restaurant Manager   \n",
       "3  Senior Elder Law / Trusts and Estates Associat...   \n",
       "4                                 Service Technician   \n",
       "\n",
       "                                         description pay_period  \\\n",
       "0  Job descriptionA leading real estate firm in N...     HOURLY   \n",
       "1  At Aspen Therapy and Wellness , we are committ...     HOURLY   \n",
       "2  The National Exemplar is accepting application...     YEARLY   \n",
       "3  Senior Associate Attorney - Elder Law / Trusts...     YEARLY   \n",
       "4  Looking for HVAC service tech with experience ...     YEARLY   \n",
       "\n",
       "            location  company_id  views formatted_work_type  applies  ...  \\\n",
       "0      Princeton, NJ   2774458.0   20.0           Full-time      2.0  ...   \n",
       "1   Fort Collins, CO         NaN    1.0           Full-time      NaN  ...   \n",
       "2     Cincinnati, OH  64896719.0    8.0           Full-time      NaN  ...   \n",
       "3  New Hyde Park, NY    766262.0   16.0           Full-time      NaN  ...   \n",
       "4     Burlington, IA         NaN    3.0           Full-time      NaN  ...   \n",
       "\n",
       "   level_lead level_associate level_manager level_director level_principal  \\\n",
       "0       False           False         False          False           False   \n",
       "1       False           False         False          False           False   \n",
       "2       False           False          True          False           False   \n",
       "3       False            True         False          False           False   \n",
       "4       False           False         False          False           False   \n",
       "\n",
       "   level_vice_president level_chief level_intern  level_junior  \\\n",
       "0                 False       False        False         False   \n",
       "1                 False       False        False         False   \n",
       "2                 False       False        False         False   \n",
       "3                 False       False        False         False   \n",
       "4                 False       False        False         False   \n",
       "\n",
       "            extracted_skills  \n",
       "0  [Microsoft Office, Adobe]  \n",
       "1                         []  \n",
       "2                         []  \n",
       "3                         []  \n",
       "4                         []  \n",
       "\n",
       "[5 rows x 37 columns]"
      ]
     },
     "execution_count": 47,
     "metadata": {},
     "output_type": "execute_result"
    }
   ],
   "source": [
    "postings_with_skills['extracted_skills'] = extracted_skills\n",
    "postings_with_skills.head()"
   ]
  },
  {
   "cell_type": "code",
   "execution_count": 48,
   "metadata": {
    "id": "gtCiG0JtrtN3"
   },
   "outputs": [],
   "source": [
    "postings_with_skills.to_csv(\"data/postings_cleaned_w_skills.csv\", index=False)"
   ]
  }
 ],
 "metadata": {
  "colab": {
   "history_visible": true,
   "provenance": []
  },
  "kernelspec": {
   "display_name": "Python (torch-env)",
   "language": "python",
   "name": "torch-env"
  },
  "language_info": {
   "codemirror_mode": {
    "name": "ipython",
    "version": 3
   },
   "file_extension": ".py",
   "mimetype": "text/x-python",
   "name": "python",
   "nbconvert_exporter": "python",
   "pygments_lexer": "ipython3",
   "version": "3.12.12"
  },
  "widgets": {
   "application/vnd.jupyter.widget-state+json": {
    "055b940ae3b1448c8fb5b9b38d3e04df": {
     "model_module": "@jupyter-widgets/base",
     "model_module_version": "1.2.0",
     "model_name": "LayoutModel",
     "state": {
      "_model_module": "@jupyter-widgets/base",
      "_model_module_version": "1.2.0",
      "_model_name": "LayoutModel",
      "_view_count": null,
      "_view_module": "@jupyter-widgets/base",
      "_view_module_version": "1.2.0",
      "_view_name": "LayoutView",
      "align_content": null,
      "align_items": null,
      "align_self": null,
      "border": null,
      "bottom": null,
      "display": null,
      "flex": null,
      "flex_flow": null,
      "grid_area": null,
      "grid_auto_columns": null,
      "grid_auto_flow": null,
      "grid_auto_rows": null,
      "grid_column": null,
      "grid_gap": null,
      "grid_row": null,
      "grid_template_areas": null,
      "grid_template_columns": null,
      "grid_template_rows": null,
      "height": null,
      "justify_content": null,
      "justify_items": null,
      "left": null,
      "margin": null,
      "max_height": null,
      "max_width": null,
      "min_height": null,
      "min_width": null,
      "object_fit": null,
      "object_position": null,
      "order": null,
      "overflow": null,
      "overflow_x": null,
      "overflow_y": null,
      "padding": null,
      "right": null,
      "top": null,
      "visibility": null,
      "width": null
     }
    },
    "20c17bf3218748b695b7d1e2a94ebc73": {
     "model_module": "@jupyter-widgets/controls",
     "model_module_version": "1.5.0",
     "model_name": "ProgressStyleModel",
     "state": {
      "_model_module": "@jupyter-widgets/controls",
      "_model_module_version": "1.5.0",
      "_model_name": "ProgressStyleModel",
      "_view_count": null,
      "_view_module": "@jupyter-widgets/base",
      "_view_module_version": "1.2.0",
      "_view_name": "StyleView",
      "bar_color": null,
      "description_width": ""
     }
    },
    "5f554ee89bc549e7b167c8258b28a06c": {
     "model_module": "@jupyter-widgets/base",
     "model_module_version": "1.2.0",
     "model_name": "LayoutModel",
     "state": {
      "_model_module": "@jupyter-widgets/base",
      "_model_module_version": "1.2.0",
      "_model_name": "LayoutModel",
      "_view_count": null,
      "_view_module": "@jupyter-widgets/base",
      "_view_module_version": "1.2.0",
      "_view_name": "LayoutView",
      "align_content": null,
      "align_items": null,
      "align_self": null,
      "border": null,
      "bottom": null,
      "display": null,
      "flex": null,
      "flex_flow": null,
      "grid_area": null,
      "grid_auto_columns": null,
      "grid_auto_flow": null,
      "grid_auto_rows": null,
      "grid_column": null,
      "grid_gap": null,
      "grid_row": null,
      "grid_template_areas": null,
      "grid_template_columns": null,
      "grid_template_rows": null,
      "height": null,
      "justify_content": null,
      "justify_items": null,
      "left": null,
      "margin": null,
      "max_height": null,
      "max_width": null,
      "min_height": null,
      "min_width": null,
      "object_fit": null,
      "object_position": null,
      "order": null,
      "overflow": null,
      "overflow_x": null,
      "overflow_y": null,
      "padding": null,
      "right": null,
      "top": null,
      "visibility": null,
      "width": null
     }
    },
    "5ff327cda26941b2998aab10096b9f5d": {
     "model_module": "@jupyter-widgets/base",
     "model_module_version": "1.2.0",
     "model_name": "LayoutModel",
     "state": {
      "_model_module": "@jupyter-widgets/base",
      "_model_module_version": "1.2.0",
      "_model_name": "LayoutModel",
      "_view_count": null,
      "_view_module": "@jupyter-widgets/base",
      "_view_module_version": "1.2.0",
      "_view_name": "LayoutView",
      "align_content": null,
      "align_items": null,
      "align_self": null,
      "border": null,
      "bottom": null,
      "display": null,
      "flex": null,
      "flex_flow": null,
      "grid_area": null,
      "grid_auto_columns": null,
      "grid_auto_flow": null,
      "grid_auto_rows": null,
      "grid_column": null,
      "grid_gap": null,
      "grid_row": null,
      "grid_template_areas": null,
      "grid_template_columns": null,
      "grid_template_rows": null,
      "height": null,
      "justify_content": null,
      "justify_items": null,
      "left": null,
      "margin": null,
      "max_height": null,
      "max_width": null,
      "min_height": null,
      "min_width": null,
      "object_fit": null,
      "object_position": null,
      "order": null,
      "overflow": null,
      "overflow_x": null,
      "overflow_y": null,
      "padding": null,
      "right": null,
      "top": null,
      "visibility": null,
      "width": null
     }
    },
    "7df4c648a5df4485a8568cc1076ea857": {
     "model_module": "@jupyter-widgets/base",
     "model_module_version": "1.2.0",
     "model_name": "LayoutModel",
     "state": {
      "_model_module": "@jupyter-widgets/base",
      "_model_module_version": "1.2.0",
      "_model_name": "LayoutModel",
      "_view_count": null,
      "_view_module": "@jupyter-widgets/base",
      "_view_module_version": "1.2.0",
      "_view_name": "LayoutView",
      "align_content": null,
      "align_items": null,
      "align_self": null,
      "border": null,
      "bottom": null,
      "display": null,
      "flex": null,
      "flex_flow": null,
      "grid_area": null,
      "grid_auto_columns": null,
      "grid_auto_flow": null,
      "grid_auto_rows": null,
      "grid_column": null,
      "grid_gap": null,
      "grid_row": null,
      "grid_template_areas": null,
      "grid_template_columns": null,
      "grid_template_rows": null,
      "height": null,
      "justify_content": null,
      "justify_items": null,
      "left": null,
      "margin": null,
      "max_height": null,
      "max_width": null,
      "min_height": null,
      "min_width": null,
      "object_fit": null,
      "object_position": null,
      "order": null,
      "overflow": null,
      "overflow_x": null,
      "overflow_y": null,
      "padding": null,
      "right": null,
      "top": null,
      "visibility": null,
      "width": null
     }
    },
    "93a2ef218e444f18891afe78699b3659": {
     "model_module": "@jupyter-widgets/controls",
     "model_module_version": "1.5.0",
     "model_name": "FloatProgressModel",
     "state": {
      "_dom_classes": [],
      "_model_module": "@jupyter-widgets/controls",
      "_model_module_version": "1.5.0",
      "_model_name": "FloatProgressModel",
      "_view_count": null,
      "_view_module": "@jupyter-widgets/controls",
      "_view_module_version": "1.5.0",
      "_view_name": "ProgressView",
      "bar_style": "success",
      "description": "",
      "description_tooltip": null,
      "layout": "IPY_MODEL_5ff327cda26941b2998aab10096b9f5d",
      "max": 20,
      "min": 0,
      "orientation": "horizontal",
      "style": "IPY_MODEL_20c17bf3218748b695b7d1e2a94ebc73",
      "value": 20
     }
    },
    "a1a9d14c9d8b4b13b438a7e02a7be3d0": {
     "model_module": "@jupyter-widgets/controls",
     "model_module_version": "1.5.0",
     "model_name": "DescriptionStyleModel",
     "state": {
      "_model_module": "@jupyter-widgets/controls",
      "_model_module_version": "1.5.0",
      "_model_name": "DescriptionStyleModel",
      "_view_count": null,
      "_view_module": "@jupyter-widgets/base",
      "_view_module_version": "1.2.0",
      "_view_name": "StyleView",
      "description_width": ""
     }
    },
    "c09f0b34a7b64c77a634d8360cf911b1": {
     "model_module": "@jupyter-widgets/controls",
     "model_module_version": "1.5.0",
     "model_name": "HBoxModel",
     "state": {
      "_dom_classes": [],
      "_model_module": "@jupyter-widgets/controls",
      "_model_module_version": "1.5.0",
      "_model_name": "HBoxModel",
      "_view_count": null,
      "_view_module": "@jupyter-widgets/controls",
      "_view_module_version": "1.5.0",
      "_view_name": "HBoxView",
      "box_style": "",
      "children": [
       "IPY_MODEL_e481f78c8ea3438d972be8dd0a506c2e",
       "IPY_MODEL_93a2ef218e444f18891afe78699b3659",
       "IPY_MODEL_cb87c4ee1c6f4469a9028668adc575b7"
      ],
      "layout": "IPY_MODEL_7df4c648a5df4485a8568cc1076ea857"
     }
    },
    "cb87c4ee1c6f4469a9028668adc575b7": {
     "model_module": "@jupyter-widgets/controls",
     "model_module_version": "1.5.0",
     "model_name": "HTMLModel",
     "state": {
      "_dom_classes": [],
      "_model_module": "@jupyter-widgets/controls",
      "_model_module_version": "1.5.0",
      "_model_name": "HTMLModel",
      "_view_count": null,
      "_view_module": "@jupyter-widgets/controls",
      "_view_module_version": "1.5.0",
      "_view_name": "HTMLView",
      "description": "",
      "description_tooltip": null,
      "layout": "IPY_MODEL_055b940ae3b1448c8fb5b9b38d3e04df",
      "placeholder": "​",
      "style": "IPY_MODEL_a1a9d14c9d8b4b13b438a7e02a7be3d0",
      "value": " 20/20 [24:06&lt;00:00, 72.69s/it]"
     }
    },
    "d89f864107de4c898c61c5edf9fd75fb": {
     "model_module": "@jupyter-widgets/controls",
     "model_module_version": "1.5.0",
     "model_name": "DescriptionStyleModel",
     "state": {
      "_model_module": "@jupyter-widgets/controls",
      "_model_module_version": "1.5.0",
      "_model_name": "DescriptionStyleModel",
      "_view_count": null,
      "_view_module": "@jupyter-widgets/base",
      "_view_module_version": "1.2.0",
      "_view_name": "StyleView",
      "description_width": ""
     }
    },
    "e481f78c8ea3438d972be8dd0a506c2e": {
     "model_module": "@jupyter-widgets/controls",
     "model_module_version": "1.5.0",
     "model_name": "HTMLModel",
     "state": {
      "_dom_classes": [],
      "_model_module": "@jupyter-widgets/controls",
      "_model_module_version": "1.5.0",
      "_model_name": "HTMLModel",
      "_view_count": null,
      "_view_module": "@jupyter-widgets/controls",
      "_view_module_version": "1.5.0",
      "_view_name": "HTMLView",
      "description": "",
      "description_tooltip": null,
      "layout": "IPY_MODEL_5f554ee89bc549e7b167c8258b28a06c",
      "placeholder": "​",
      "style": "IPY_MODEL_d89f864107de4c898c61c5edf9fd75fb",
      "value": "100%"
     }
    }
   }
  }
 },
 "nbformat": 4,
 "nbformat_minor": 4
}
