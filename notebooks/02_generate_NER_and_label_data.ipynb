{
 "cells": [
  {
   "cell_type": "markdown",
   "metadata": {},
   "source": [
    "# Imports and Setup"
   ]
  },
  {
   "cell_type": "code",
   "execution_count": 88,
   "metadata": {},
   "outputs": [],
   "source": [
    "import pandas as pd\n",
    "import random\n",
    "import re\n",
    "from pathlib import Path\n",
    "from datetime import datetime\n",
    "\n",
    "import spacy\n",
    "from spacy import displacy\n",
    "from spacy.scorer import Scorer\n",
    "from spacy.tokens import DocBin\n",
    "from spacy.training import Example\n",
    "from spacy.util import minibatch, compounding\n",
    "from tqdm.notebook import tqdm\n",
    "\n",
    "import matplotlib.pyplot as plt"
   ]
  },
  {
   "cell_type": "code",
   "execution_count": 89,
   "metadata": {},
   "outputs": [],
   "source": [
    "# Paths\n",
    "DATA_DIR = Path('../data')\n",
    "CLEANED_PATH = DATA_DIR / 'postings_cleaned.csv'\n",
    "LABELED_PATH = DATA_DIR / \"postings_cleaned_w_skills.csv\"\n",
    "MODEL_DIR = Path(\"../models/ner_skill_model\")\n",
    "\n",
    "# Seed for reproducibility\n",
    "random.seed(42)"
   ]
  },
  {
   "cell_type": "markdown",
   "metadata": {
    "id": "Ke0UeCPS6jEB"
   },
   "source": [
    "# Load and Clean data"
   ]
  },
  {
   "cell_type": "code",
   "execution_count": 90,
   "metadata": {
    "colab": {
     "base_uri": "https://localhost:8080/",
     "height": 551
    },
    "id": "8Ick5xY56huV",
    "outputId": "8f454c0f-eeaf-41eb-b849-ecb542404d21"
   },
   "outputs": [
    {
     "data": {
      "text/html": [
       "<div>\n",
       "<style scoped>\n",
       "    .dataframe tbody tr th:only-of-type {\n",
       "        vertical-align: middle;\n",
       "    }\n",
       "\n",
       "    .dataframe tbody tr th {\n",
       "        vertical-align: top;\n",
       "    }\n",
       "\n",
       "    .dataframe thead th {\n",
       "        text-align: right;\n",
       "    }\n",
       "</style>\n",
       "<table border=\"1\" class=\"dataframe\">\n",
       "  <thead>\n",
       "    <tr style=\"text-align: right;\">\n",
       "      <th></th>\n",
       "      <th>job_id</th>\n",
       "      <th>company_name</th>\n",
       "      <th>title</th>\n",
       "      <th>description</th>\n",
       "      <th>max_salary</th>\n",
       "      <th>pay_period</th>\n",
       "      <th>location</th>\n",
       "      <th>company_id</th>\n",
       "      <th>views</th>\n",
       "      <th>med_salary</th>\n",
       "      <th>...</th>\n",
       "      <th>level_director</th>\n",
       "      <th>level_principal</th>\n",
       "      <th>level_vice_president</th>\n",
       "      <th>level_chief</th>\n",
       "      <th>level_intern</th>\n",
       "      <th>level_junior</th>\n",
       "      <th>original_listed_time_ts</th>\n",
       "      <th>listed_time_ts</th>\n",
       "      <th>closed_time_ts</th>\n",
       "      <th>time_open</th>\n",
       "    </tr>\n",
       "  </thead>\n",
       "  <tbody>\n",
       "    <tr>\n",
       "      <th>0</th>\n",
       "      <td>921716</td>\n",
       "      <td>Corcoran Sawyer Smith</td>\n",
       "      <td>Marketing Coordinator</td>\n",
       "      <td>Job descriptionA leading real estate firm in N...</td>\n",
       "      <td>20.0</td>\n",
       "      <td>HOURLY</td>\n",
       "      <td>Princeton, NJ</td>\n",
       "      <td>2774458.0</td>\n",
       "      <td>20.0</td>\n",
       "      <td>NaN</td>\n",
       "      <td>...</td>\n",
       "      <td>False</td>\n",
       "      <td>False</td>\n",
       "      <td>False</td>\n",
       "      <td>False</td>\n",
       "      <td>False</td>\n",
       "      <td>False</td>\n",
       "      <td>2024-04-17 23:45:08</td>\n",
       "      <td>2024-04-17 23:45:08</td>\n",
       "      <td>NaN</td>\n",
       "      <td>NaN</td>\n",
       "    </tr>\n",
       "    <tr>\n",
       "      <th>1</th>\n",
       "      <td>1829192</td>\n",
       "      <td>NaN</td>\n",
       "      <td>Mental Health Therapist/Counselor</td>\n",
       "      <td>At Aspen Therapy and Wellness , we are committ...</td>\n",
       "      <td>50.0</td>\n",
       "      <td>HOURLY</td>\n",
       "      <td>Fort Collins, CO</td>\n",
       "      <td>NaN</td>\n",
       "      <td>1.0</td>\n",
       "      <td>NaN</td>\n",
       "      <td>...</td>\n",
       "      <td>False</td>\n",
       "      <td>False</td>\n",
       "      <td>False</td>\n",
       "      <td>False</td>\n",
       "      <td>False</td>\n",
       "      <td>False</td>\n",
       "      <td>2024-04-11 17:51:27</td>\n",
       "      <td>2024-04-11 17:51:27</td>\n",
       "      <td>NaN</td>\n",
       "      <td>NaN</td>\n",
       "    </tr>\n",
       "    <tr>\n",
       "      <th>2</th>\n",
       "      <td>10998357</td>\n",
       "      <td>The National Exemplar</td>\n",
       "      <td>Assitant Restaurant Manager</td>\n",
       "      <td>The National Exemplar is accepting application...</td>\n",
       "      <td>65000.0</td>\n",
       "      <td>YEARLY</td>\n",
       "      <td>Cincinnati, OH</td>\n",
       "      <td>64896719.0</td>\n",
       "      <td>8.0</td>\n",
       "      <td>NaN</td>\n",
       "      <td>...</td>\n",
       "      <td>False</td>\n",
       "      <td>False</td>\n",
       "      <td>False</td>\n",
       "      <td>False</td>\n",
       "      <td>False</td>\n",
       "      <td>False</td>\n",
       "      <td>2024-04-16 14:26:54</td>\n",
       "      <td>2024-04-16 14:26:54</td>\n",
       "      <td>NaN</td>\n",
       "      <td>NaN</td>\n",
       "    </tr>\n",
       "    <tr>\n",
       "      <th>3</th>\n",
       "      <td>23221523</td>\n",
       "      <td>Abrams Fensterman, LLP</td>\n",
       "      <td>Senior Elder Law / Trusts and Estates Associat...</td>\n",
       "      <td>Senior Associate Attorney - Elder Law / Trusts...</td>\n",
       "      <td>175000.0</td>\n",
       "      <td>YEARLY</td>\n",
       "      <td>New Hyde Park, NY</td>\n",
       "      <td>766262.0</td>\n",
       "      <td>16.0</td>\n",
       "      <td>NaN</td>\n",
       "      <td>...</td>\n",
       "      <td>False</td>\n",
       "      <td>False</td>\n",
       "      <td>False</td>\n",
       "      <td>False</td>\n",
       "      <td>False</td>\n",
       "      <td>False</td>\n",
       "      <td>2024-04-12 04:23:32</td>\n",
       "      <td>2024-04-12 04:23:32</td>\n",
       "      <td>NaN</td>\n",
       "      <td>NaN</td>\n",
       "    </tr>\n",
       "    <tr>\n",
       "      <th>4</th>\n",
       "      <td>35982263</td>\n",
       "      <td>NaN</td>\n",
       "      <td>Service Technician</td>\n",
       "      <td>Looking for HVAC service tech with experience ...</td>\n",
       "      <td>80000.0</td>\n",
       "      <td>YEARLY</td>\n",
       "      <td>Burlington, IA</td>\n",
       "      <td>NaN</td>\n",
       "      <td>3.0</td>\n",
       "      <td>NaN</td>\n",
       "      <td>...</td>\n",
       "      <td>False</td>\n",
       "      <td>False</td>\n",
       "      <td>False</td>\n",
       "      <td>False</td>\n",
       "      <td>False</td>\n",
       "      <td>False</td>\n",
       "      <td>2024-04-18 14:52:23</td>\n",
       "      <td>2024-04-18 14:52:23</td>\n",
       "      <td>NaN</td>\n",
       "      <td>NaN</td>\n",
       "    </tr>\n",
       "  </tbody>\n",
       "</table>\n",
       "<p>5 rows × 51 columns</p>\n",
       "</div>"
      ],
      "text/plain": [
       "     job_id            company_name  \\\n",
       "0    921716   Corcoran Sawyer Smith   \n",
       "1   1829192                     NaN   \n",
       "2  10998357  The National Exemplar    \n",
       "3  23221523  Abrams Fensterman, LLP   \n",
       "4  35982263                     NaN   \n",
       "\n",
       "                                               title  \\\n",
       "0                              Marketing Coordinator   \n",
       "1                  Mental Health Therapist/Counselor   \n",
       "2                        Assitant Restaurant Manager   \n",
       "3  Senior Elder Law / Trusts and Estates Associat...   \n",
       "4                                 Service Technician   \n",
       "\n",
       "                                         description  max_salary pay_period  \\\n",
       "0  Job descriptionA leading real estate firm in N...        20.0     HOURLY   \n",
       "1  At Aspen Therapy and Wellness , we are committ...        50.0     HOURLY   \n",
       "2  The National Exemplar is accepting application...     65000.0     YEARLY   \n",
       "3  Senior Associate Attorney - Elder Law / Trusts...    175000.0     YEARLY   \n",
       "4  Looking for HVAC service tech with experience ...     80000.0     YEARLY   \n",
       "\n",
       "            location  company_id  views  med_salary  ...  level_director  \\\n",
       "0      Princeton, NJ   2774458.0   20.0         NaN  ...           False   \n",
       "1   Fort Collins, CO         NaN    1.0         NaN  ...           False   \n",
       "2     Cincinnati, OH  64896719.0    8.0         NaN  ...           False   \n",
       "3  New Hyde Park, NY    766262.0   16.0         NaN  ...           False   \n",
       "4     Burlington, IA         NaN    3.0         NaN  ...           False   \n",
       "\n",
       "  level_principal  level_vice_president  level_chief  level_intern  \\\n",
       "0           False                 False        False         False   \n",
       "1           False                 False        False         False   \n",
       "2           False                 False        False         False   \n",
       "3           False                 False        False         False   \n",
       "4           False                 False        False         False   \n",
       "\n",
       "  level_junior original_listed_time_ts       listed_time_ts  closed_time_ts  \\\n",
       "0        False     2024-04-17 23:45:08  2024-04-17 23:45:08             NaN   \n",
       "1        False     2024-04-11 17:51:27  2024-04-11 17:51:27             NaN   \n",
       "2        False     2024-04-16 14:26:54  2024-04-16 14:26:54             NaN   \n",
       "3        False     2024-04-12 04:23:32  2024-04-12 04:23:32             NaN   \n",
       "4        False     2024-04-18 14:52:23  2024-04-18 14:52:23             NaN   \n",
       "\n",
       "   time_open  \n",
       "0        NaN  \n",
       "1        NaN  \n",
       "2        NaN  \n",
       "3        NaN  \n",
       "4        NaN  \n",
       "\n",
       "[5 rows x 51 columns]"
      ]
     },
     "execution_count": 90,
     "metadata": {},
     "output_type": "execute_result"
    }
   ],
   "source": [
    "postings = pd.read_csv(CLEANED_PATH)\n",
    "postings.head()"
   ]
  },
  {
   "cell_type": "markdown",
   "metadata": {
    "id": "yQXWYCRj6x5R"
   },
   "source": [
    "# Create custom \"SKILL\" NER model"
   ]
  },
  {
   "cell_type": "markdown",
   "metadata": {},
   "source": [
    "## Create weakly-labeled training data set"
   ]
  },
  {
   "cell_type": "markdown",
   "metadata": {},
   "source": [
    "I am personally familiar with software, data scientist and bioscientist roles, so rather than manually label the dataset postings, I will create a list of known skills for these roles and weakly label a subset of data and bioscientist postings to provide to the model for training."
   ]
  },
  {
   "cell_type": "code",
   "execution_count": 77,
   "metadata": {
    "id": "tzD1dXc4gLUA"
   },
   "outputs": [],
   "source": [
    "def weak_label_skills(text, skill_list):\n",
    "    matches = []\n",
    "    for skill in skill_list:\n",
    "        for m in re.finditer(rf\"\\b{skill}\\b\", text, flags=re.IGNORECASE):\n",
    "            matches.append((m.start(), m.end(), \"SKILL\"))\n",
    "    return matches"
   ]
  },
  {
   "cell_type": "code",
   "execution_count": 79,
   "metadata": {
    "id": "ZUjxz4bNj5aP"
   },
   "outputs": [],
   "source": [
    "general_skills = [\n",
    "    \"microsoft office\", 'teamwork', 'collaboration', 'communication', 'attention to detail', \n",
    "    'critical thinking', 'problem-solving', 'project management', \n",
    "]\n",
    "\n",
    "software_skills = [\n",
    "    \"python\", \"java\", \"sql\", \"javascript\", \"html\", \"css\", \"ruby\", \"spark\",\n",
    "    \"pyspark\", \"nosql\", \"mongodb\", \"hadoop\", \"postgresql\",\n",
    "    \"docker\", \"aws\", \"azure\", \"adobe\", \"jira\", \"databricks\", \"dbt\",\n",
    "    \"excel\", \"object-oriented programming\"\n",
    "]\n",
    "\n",
    "datascience_skills = [\n",
    "    \"machine learning\", \"data analysis\",  \"deep learning\", \"feature extraction\", \n",
    "    \"statistics\", \"statistical analysis\", \"probability\", \"experimental design\",\n",
    "    \"neural networks\", \"lightgbm\", \"xgboost\", \"catboost\", \"pytorch\", \"tensorflow\", \"keras\",\n",
    "    \"scikit-learn\", \"spacy\", \"nltk\", \"vader\", \"pandas\", \"numpy\", \"matplotlib\",\n",
    "    \"nlp\", \"natural language processing\", \"text mining\", \"text analysis\",\n",
    "    \"genai\", \"openai\", \"generative ai\", \"claude\", \"llama\", \"chatgpt\", \"langchain\"\n",
    "]\n",
    "\n",
    "datavis_skills = [\n",
    "    \"data visualization\", \"tableau\", \"powerbi\", \"power bi\", \"looker\", \"plotly\", \n",
    "    \"qlik sense\", \"d3.js\", \"domo\", \"zoho analytics\", \"Sisense\"\n",
    "]\n",
    "\n",
    "scientist_skills = [\n",
    "    \"PCR\", \"Western blot\", \"flow cytometry\", \"CRISPR\", \"GraphPad Prism\", \"prime editing\",\n",
    "    \"Illumina\", \"cell culture\", \"next-generation sequencing\", \"ngs\", \"molecular cloning\",\n",
    "    \"gene editing\", \"ELISA\", \"bioconjugation\", \"protein purification\", \"yeast display\", \"genious\",\n",
    "    \"snapgene\", \"ChimeraX\", \"pymol\", \"crispresso2\", \"polymerase chain reaction\", \"electrophoresis\"\n",
    "]\n",
    "\n",
    "\n",
    "SKILLS_LIST = list(set(general_skills + software_skills + datascience_skills + datavis_skills + scientist_skills))"
   ]
  },
  {
   "cell_type": "code",
   "execution_count": 80,
   "metadata": {
    "colab": {
     "base_uri": "https://localhost:8080/"
    },
    "id": "EdYLMjmMlynt",
    "outputId": "f2ff817f-5dc8-4880-ae0b-8a14de2d5e2d"
   },
   "outputs": [
    {
     "name": "stdout",
     "output_type": "stream",
     "text": [
      "14897 matching engineer, scientist, or analyst postings\n"
     ]
    }
   ],
   "source": [
    "bootstrap_skills_set = postings[\n",
    "    ( postings['title_normalized'].str.contains(\"engineer\", na=False) )\n",
    "    | ( postings['title_normalized'].str.contains(\"scientist\", na=False) )\n",
    "    | ( postings['title_normalized'].str.contains(\"analyst\", na=False) )\n",
    "\n",
    "]\n",
    "print(f\"{len(bootstrap_skills_set)} matching engineer, scientist, or analyst postings\")"
   ]
  },
  {
   "cell_type": "code",
   "execution_count": 81,
   "metadata": {
    "colab": {
     "base_uri": "https://localhost:8080/"
    },
    "id": "ONNxVUfurImx",
    "outputId": "a10cd6e3-1c46-4f96-89ed-d63efdf2d071"
   },
   "outputs": [
    {
     "name": "stdout",
     "output_type": "stream",
     "text": [
      "generated 1000 training examples, 1000 test examples\n"
     ]
    }
   ],
   "source": [
    "matching_postings = []\n",
    "\n",
    "# shuffle to remove any ordering/sorting bias (in which kinds of jobs end up in training set)\n",
    "bootstrap_skills_set = bootstrap_skills_set.sample(frac=1)\n",
    "\n",
    "for description in bootstrap_skills_set['description'].dropna().unique():\n",
    "    entity_list = weak_label_skills(description, SKILLS_LIST)\n",
    "    if len(entity_list) > 0:\n",
    "      matching_postings.append((description, {\"entities\": entity_list}))\n",
    "\n",
    "split_index = 1000\n",
    "TRAIN_DATA = matching_postings[:split_index]\n",
    "TEST_DATA = matching_postings[split_index:split_index+1000]\n",
    "\n",
    "print(f\"generated {len(TRAIN_DATA)} training examples, {len(TEST_DATA)} test examples\")"
   ]
  },
  {
   "cell_type": "markdown",
   "metadata": {},
   "source": [
    "## Initialize and train NER model"
   ]
  },
  {
   "cell_type": "code",
   "execution_count": 91,
   "metadata": {
    "colab": {
     "base_uri": "https://localhost:8080/",
     "height": 103,
     "referenced_widgets": [
      "c09f0b34a7b64c77a634d8360cf911b1",
      "e481f78c8ea3438d972be8dd0a506c2e",
      "93a2ef218e444f18891afe78699b3659",
      "cb87c4ee1c6f4469a9028668adc575b7",
      "7df4c648a5df4485a8568cc1076ea857",
      "5f554ee89bc549e7b167c8258b28a06c",
      "d89f864107de4c898c61c5edf9fd75fb",
      "5ff327cda26941b2998aab10096b9f5d",
      "20c17bf3218748b695b7d1e2a94ebc73",
      "055b940ae3b1448c8fb5b9b38d3e04df",
      "a1a9d14c9d8b4b13b438a7e02a7be3d0"
     ]
    },
    "id": "mWCneMVj60uN",
    "outputId": "8c8fc6e4-ab08-4719-d2d8-3be654ce1975"
   },
   "outputs": [
    {
     "data": {
      "application/vnd.jupyter.widget-view+json": {
       "model_id": "bbff3edf57cb4b94af8de26df76d0829",
       "version_major": 2,
       "version_minor": 0
      },
      "text/plain": [
       "  0%|          | 0/10 [00:00<?, ?it/s]"
      ]
     },
     "metadata": {},
     "output_type": "display_data"
    }
   ],
   "source": [
    "import warnings\n",
    "warnings.filterwarnings(\"ignore\")\n",
    "\n",
    "nlp = spacy.load(\"en_core_web_lg\")\n",
    "ner = nlp.get_pipe(\"ner\")\n",
    "ner.add_label(\"SKILL\")\n",
    "\n",
    "examples = []\n",
    "for text, annots in TRAIN_DATA:\n",
    "    doc = nlp.make_doc(text)\n",
    "    example = Example.from_dict(doc, annots)\n",
    "    examples.append(example)\n",
    "\n",
    "n_iter = 10 \n",
    "dropout = 0.2\n",
    "batch_size = 8\n",
    "\n",
    "optimizer = nlp.create_optimizer()\n",
    "\n",
    "losses_list = []\n",
    "\n",
    "for i in tqdm(range(n_iter)):\n",
    "    random.shuffle(examples)\n",
    "    losses = {}\n",
    "    batches = minibatch(examples, size=batch_size)\n",
    "    for batch in batches:\n",
    "        nlp.update(batch, sgd=optimizer, drop=dropout, losses=losses)\n",
    "    losses_list.append(losses.get(\"ner\", 0))\n"
   ]
  },
  {
   "cell_type": "code",
   "execution_count": 92,
   "metadata": {
    "colab": {
     "base_uri": "https://localhost:8080/",
     "height": 472
    },
    "id": "COm7Uc_fOPLO",
    "outputId": "7592d0f5-e63c-4d66-c6ed-1f4be20f682b"
   },
   "outputs": [
    {
     "data": {
      "image/png": "[encoded data removed]",
      "text/plain": [
       "<Figure size 640x480 with 1 Axes>"
      ]
     },
     "metadata": {},
     "output_type": "display_data"
    }
   ],
   "source": [
    "plt.plot(losses_list)\n",
    "plt.title(\"NER Training Loss Over Epochs\")\n",
    "plt.xlabel(\"Epoch\")\n",
    "plt.ylabel(\"Loss\")\n",
    "plt.grid(True)\n",
    "plt.show()"
   ]
  },
  {
   "cell_type": "code",
   "execution_count": 93,
   "metadata": {
    "colab": {
     "base_uri": "https://localhost:8080/"
    },
    "id": "SFdCYDi1OSDy",
    "outputId": "03052a6c-1f06-4e61-fd61-04e5b1080544"
   },
   "outputs": [
    {
     "data": {
      "text/plain": [
       "(0.9972807613868117, 0.9968289920724802, 0.9970548255550522)"
      ]
     },
     "execution_count": 93,
     "metadata": {},
     "output_type": "execute_result"
    }
   ],
   "source": [
    "def evaluate(nlp_model, data):\n",
    "    scorer = Scorer()\n",
    "    examples = []\n",
    "    for text, annotations in data:\n",
    "        doc = nlp_model(text)\n",
    "        example = Example.from_dict(doc, annotations)\n",
    "        examples.append(example)\n",
    "\n",
    "    return scorer.score(examples)\n",
    "\n",
    "scores = evaluate(nlp, TEST_DATA)\n",
    "scores[\"ents_p\"], scores[\"ents_r\"], scores[\"ents_f\"]"
   ]
  },
  {
   "cell_type": "code",
   "execution_count": 96,
   "metadata": {
    "colab": {
     "base_uri": "https://localhost:8080/",
     "height": 70
    },
    "id": "5_kJgk_YVw35",
    "outputId": "abe22c44-7398-4d16-d3f9-9061839c70ba"
   },
   "outputs": [
    {
     "name": "stdout",
     "output_type": "stream",
     "text": [
      "[('Python', 'SKILL'), ('SQL', 'SKILL'), ('data visualization', 'SKILL'), ('Tableau', 'SKILL'), ('Power BI', 'SKILL')]\n"
     ]
    }
   ],
   "source": [
    "test_text = \"We need someone fluent in Python, R, and SQL. Experience with data visualization tools like Tableau, Power BI, or Chartviz a plus.\"\n",
    "doc = nlp(test_text)\n",
    "\n",
    "print([(ent.text, ent.label_) for ent in doc.ents])"
   ]
  },
  {
   "cell_type": "code",
   "execution_count": 97,
   "metadata": {
    "colab": {
     "base_uri": "https://localhost:8080/"
    },
    "id": "X2KwCLj37IPd",
    "outputId": "45246e13-294e-4154-fca2-421c07480728"
   },
   "outputs": [],
   "source": [
    "MODEL_DIR.mkdir(parents=True, exist_ok=True)\n",
    "nlp.to_disk(MODEL_DIR)"
   ]
  },
  {
   "cell_type": "markdown",
   "metadata": {
    "id": "yD_60pgaqKhq"
   },
   "source": [
    "# Extract skills from postings data with new NER model\n"
   ]
  },
  {
   "cell_type": "code",
   "execution_count": 105,
   "metadata": {
    "id": "hRojnY75rMKQ"
   },
   "outputs": [],
   "source": [
    "nlp = spacy.load(MODEL_DIR)"
   ]
  },
  {
   "cell_type": "code",
   "execution_count": 106,
   "metadata": {
    "id": "RoIyXx2hrhpP"
   },
   "outputs": [],
   "source": [
    "def extract_skills(nlp, text):\n",
    "    doc = nlp(text)\n",
    "    skills = [ent.text for ent in doc.ents if ent.label_ == \"SKILL\"]\n",
    "    return list(set(skills))"
   ]
  },
  {
   "cell_type": "code",
   "execution_count": 110,
   "metadata": {},
   "outputs": [
    {
     "name": "stdout",
     "output_type": "stream",
     "text": [
      "10/27 22:08:43: starting now\n",
      "10/27 22:20:37: processed 10000 descriptions\n",
      "10/27 22:33:15: processed 20000 descriptions\n",
      "10/27 22:44:53: processed 30000 descriptions\n",
      "10/27 22:56:54: processed 40000 descriptions\n",
      "10/27 23:08:43: processed 50000 descriptions\n",
      "10/27 23:21:22: processed 60000 descriptions\n",
      "10/27 23:33:33: processed 70000 descriptions\n",
      "10/27 23:49:01: processed 80000 descriptions\n",
      "10/28 00:03:08: processed 90000 descriptions\n",
      "10/28 00:19:03: processed 100000 descriptions\n",
      "10/28 00:30:31: finished\n"
     ]
    }
   ],
   "source": [
    "extracted_skills = []\n",
    "processed_descriptions = 0\n",
    "print(f\"{datetime.now().strftime('%m/%d %H:%M:%S')}: starting now\")\n",
    "for post in postings['description']:\n",
    "    post = str(post).lower()\n",
    "    extracted_skills.append( extract_skills(nlp, str(post)))\n",
    "    processed_descriptions += 1\n",
    "    if processed_descriptions % 10000 == 0:\n",
    "        print(f\"{datetime.now().strftime('%m/%d %H:%M:%S')}: processed {processed_descriptions} descriptions\")\n",
    "print(f\"{datetime.now().strftime('%m/%d %H:%M:%S')}: finished\")"
   ]
  },
  {
   "cell_type": "code",
   "execution_count": 111,
   "metadata": {
    "colab": {
     "base_uri": "https://localhost:8080/",
     "height": 551
    },
    "id": "0obVzmShGVOT",
    "outputId": "ac0838d1-84b7-4dbd-bf9b-89127e311c52"
   },
   "outputs": [
    {
     "data": {
      "text/html": [
       "<div>\n",
       "<style scoped>\n",
       "    .dataframe tbody tr th:only-of-type {\n",
       "        vertical-align: middle;\n",
       "    }\n",
       "\n",
       "    .dataframe tbody tr th {\n",
       "        vertical-align: top;\n",
       "    }\n",
       "\n",
       "    .dataframe thead th {\n",
       "        text-align: right;\n",
       "    }\n",
       "</style>\n",
       "<table border=\"1\" class=\"dataframe\">\n",
       "  <thead>\n",
       "    <tr style=\"text-align: right;\">\n",
       "      <th></th>\n",
       "      <th>job_id</th>\n",
       "      <th>company_name</th>\n",
       "      <th>title</th>\n",
       "      <th>description</th>\n",
       "      <th>max_salary</th>\n",
       "      <th>pay_period</th>\n",
       "      <th>location</th>\n",
       "      <th>company_id</th>\n",
       "      <th>views</th>\n",
       "      <th>med_salary</th>\n",
       "      <th>...</th>\n",
       "      <th>level_principal</th>\n",
       "      <th>level_vice_president</th>\n",
       "      <th>level_chief</th>\n",
       "      <th>level_intern</th>\n",
       "      <th>level_junior</th>\n",
       "      <th>original_listed_time_ts</th>\n",
       "      <th>listed_time_ts</th>\n",
       "      <th>closed_time_ts</th>\n",
       "      <th>time_open</th>\n",
       "      <th>extracted_skills</th>\n",
       "    </tr>\n",
       "  </thead>\n",
       "  <tbody>\n",
       "    <tr>\n",
       "      <th>0</th>\n",
       "      <td>921716</td>\n",
       "      <td>Corcoran Sawyer Smith</td>\n",
       "      <td>Marketing Coordinator</td>\n",
       "      <td>Job descriptionA leading real estate firm in N...</td>\n",
       "      <td>20.0</td>\n",
       "      <td>HOURLY</td>\n",
       "      <td>Princeton, NJ</td>\n",
       "      <td>2774458.0</td>\n",
       "      <td>20.0</td>\n",
       "      <td>NaN</td>\n",
       "      <td>...</td>\n",
       "      <td>False</td>\n",
       "      <td>False</td>\n",
       "      <td>False</td>\n",
       "      <td>False</td>\n",
       "      <td>False</td>\n",
       "      <td>2024-04-17 23:45:08</td>\n",
       "      <td>2024-04-17 23:45:08</td>\n",
       "      <td>NaN</td>\n",
       "      <td>NaN</td>\n",
       "      <td>[adobe, microsoft office]</td>\n",
       "    </tr>\n",
       "    <tr>\n",
       "      <th>1</th>\n",
       "      <td>1829192</td>\n",
       "      <td>NaN</td>\n",
       "      <td>Mental Health Therapist/Counselor</td>\n",
       "      <td>At Aspen Therapy and Wellness , we are committ...</td>\n",
       "      <td>50.0</td>\n",
       "      <td>HOURLY</td>\n",
       "      <td>Fort Collins, CO</td>\n",
       "      <td>NaN</td>\n",
       "      <td>1.0</td>\n",
       "      <td>NaN</td>\n",
       "      <td>...</td>\n",
       "      <td>False</td>\n",
       "      <td>False</td>\n",
       "      <td>False</td>\n",
       "      <td>False</td>\n",
       "      <td>False</td>\n",
       "      <td>2024-04-11 17:51:27</td>\n",
       "      <td>2024-04-11 17:51:27</td>\n",
       "      <td>NaN</td>\n",
       "      <td>NaN</td>\n",
       "      <td>[communication]</td>\n",
       "    </tr>\n",
       "    <tr>\n",
       "      <th>2</th>\n",
       "      <td>10998357</td>\n",
       "      <td>The National Exemplar</td>\n",
       "      <td>Assitant Restaurant Manager</td>\n",
       "      <td>The National Exemplar is accepting application...</td>\n",
       "      <td>65000.0</td>\n",
       "      <td>YEARLY</td>\n",
       "      <td>Cincinnati, OH</td>\n",
       "      <td>64896719.0</td>\n",
       "      <td>8.0</td>\n",
       "      <td>NaN</td>\n",
       "      <td>...</td>\n",
       "      <td>False</td>\n",
       "      <td>False</td>\n",
       "      <td>False</td>\n",
       "      <td>False</td>\n",
       "      <td>False</td>\n",
       "      <td>2024-04-16 14:26:54</td>\n",
       "      <td>2024-04-16 14:26:54</td>\n",
       "      <td>NaN</td>\n",
       "      <td>NaN</td>\n",
       "      <td>[]</td>\n",
       "    </tr>\n",
       "    <tr>\n",
       "      <th>3</th>\n",
       "      <td>23221523</td>\n",
       "      <td>Abrams Fensterman, LLP</td>\n",
       "      <td>Senior Elder Law / Trusts and Estates Associat...</td>\n",
       "      <td>Senior Associate Attorney - Elder Law / Trusts...</td>\n",
       "      <td>175000.0</td>\n",
       "      <td>YEARLY</td>\n",
       "      <td>New Hyde Park, NY</td>\n",
       "      <td>766262.0</td>\n",
       "      <td>16.0</td>\n",
       "      <td>NaN</td>\n",
       "      <td>...</td>\n",
       "      <td>False</td>\n",
       "      <td>False</td>\n",
       "      <td>False</td>\n",
       "      <td>False</td>\n",
       "      <td>False</td>\n",
       "      <td>2024-04-12 04:23:32</td>\n",
       "      <td>2024-04-12 04:23:32</td>\n",
       "      <td>NaN</td>\n",
       "      <td>NaN</td>\n",
       "      <td>[communication, problem-solving]</td>\n",
       "    </tr>\n",
       "    <tr>\n",
       "      <th>4</th>\n",
       "      <td>35982263</td>\n",
       "      <td>NaN</td>\n",
       "      <td>Service Technician</td>\n",
       "      <td>Looking for HVAC service tech with experience ...</td>\n",
       "      <td>80000.0</td>\n",
       "      <td>YEARLY</td>\n",
       "      <td>Burlington, IA</td>\n",
       "      <td>NaN</td>\n",
       "      <td>3.0</td>\n",
       "      <td>NaN</td>\n",
       "      <td>...</td>\n",
       "      <td>False</td>\n",
       "      <td>False</td>\n",
       "      <td>False</td>\n",
       "      <td>False</td>\n",
       "      <td>False</td>\n",
       "      <td>2024-04-18 14:52:23</td>\n",
       "      <td>2024-04-18 14:52:23</td>\n",
       "      <td>NaN</td>\n",
       "      <td>NaN</td>\n",
       "      <td>[]</td>\n",
       "    </tr>\n",
       "  </tbody>\n",
       "</table>\n",
       "<p>5 rows × 52 columns</p>\n",
       "</div>"
      ],
      "text/plain": [
       "     job_id            company_name  \\\n",
       "0    921716   Corcoran Sawyer Smith   \n",
       "1   1829192                     NaN   \n",
       "2  10998357  The National Exemplar    \n",
       "3  23221523  Abrams Fensterman, LLP   \n",
       "4  35982263                     NaN   \n",
       "\n",
       "                                               title  \\\n",
       "0                              Marketing Coordinator   \n",
       "1                  Mental Health Therapist/Counselor   \n",
       "2                        Assitant Restaurant Manager   \n",
       "3  Senior Elder Law / Trusts and Estates Associat...   \n",
       "4                                 Service Technician   \n",
       "\n",
       "                                         description  max_salary pay_period  \\\n",
       "0  Job descriptionA leading real estate firm in N...        20.0     HOURLY   \n",
       "1  At Aspen Therapy and Wellness , we are committ...        50.0     HOURLY   \n",
       "2  The National Exemplar is accepting application...     65000.0     YEARLY   \n",
       "3  Senior Associate Attorney - Elder Law / Trusts...    175000.0     YEARLY   \n",
       "4  Looking for HVAC service tech with experience ...     80000.0     YEARLY   \n",
       "\n",
       "            location  company_id  views  med_salary  ...  level_principal  \\\n",
       "0      Princeton, NJ   2774458.0   20.0         NaN  ...            False   \n",
       "1   Fort Collins, CO         NaN    1.0         NaN  ...            False   \n",
       "2     Cincinnati, OH  64896719.0    8.0         NaN  ...            False   \n",
       "3  New Hyde Park, NY    766262.0   16.0         NaN  ...            False   \n",
       "4     Burlington, IA         NaN    3.0         NaN  ...            False   \n",
       "\n",
       "  level_vice_president  level_chief  level_intern  level_junior  \\\n",
       "0                False        False         False         False   \n",
       "1                False        False         False         False   \n",
       "2                False        False         False         False   \n",
       "3                False        False         False         False   \n",
       "4                False        False         False         False   \n",
       "\n",
       "  original_listed_time_ts       listed_time_ts closed_time_ts  time_open  \\\n",
       "0     2024-04-17 23:45:08  2024-04-17 23:45:08            NaN        NaN   \n",
       "1     2024-04-11 17:51:27  2024-04-11 17:51:27            NaN        NaN   \n",
       "2     2024-04-16 14:26:54  2024-04-16 14:26:54            NaN        NaN   \n",
       "3     2024-04-12 04:23:32  2024-04-12 04:23:32            NaN        NaN   \n",
       "4     2024-04-18 14:52:23  2024-04-18 14:52:23            NaN        NaN   \n",
       "\n",
       "                   extracted_skills  \n",
       "0         [adobe, microsoft office]  \n",
       "1                   [communication]  \n",
       "2                                []  \n",
       "3  [communication, problem-solving]  \n",
       "4                                []  \n",
       "\n",
       "[5 rows x 52 columns]"
      ]
     },
     "execution_count": 111,
     "metadata": {},
     "output_type": "execute_result"
    }
   ],
   "source": [
    "postings['extracted_skills'] = extracted_skills\n",
    "postings.head()"
   ]
  },
  {
   "cell_type": "code",
   "execution_count": 112,
   "metadata": {},
   "outputs": [
    {
     "data": {
      "text/plain": [
       "107828"
      ]
     },
     "execution_count": 112,
     "metadata": {},
     "output_type": "execute_result"
    }
   ],
   "source": [
    "len(postings)"
   ]
  },
  {
   "cell_type": "code",
   "execution_count": 113,
   "metadata": {
    "id": "gtCiG0JtrtN3"
   },
   "outputs": [],
   "source": [
    "postings_with_skills = postings.copy()\n",
    "postings_with_skills.to_csv(LABELED_FILE, index=False)"
   ]
  },
  {
   "cell_type": "markdown",
   "metadata": {},
   "source": [
    "## Visualize skill distribution"
   ]
  },
  {
   "cell_type": "code",
   "execution_count": 114,
   "metadata": {},
   "outputs": [],
   "source": [
    "postings_with_skills = pd.read_csv(LABELED_FILE)"
   ]
  },
  {
   "cell_type": "code",
   "execution_count": 115,
   "metadata": {},
   "outputs": [],
   "source": [
    "import ast\n",
    "\n",
    "all_skills_list = []\n",
    "for posting in postings_with_skills['extracted_skills']:\n",
    "    posting_skills = ast.literal_eval(posting)\n",
    "    all_skills_list.extend(posting_skills)\n",
    "skill_counts = pd.Series(all_skills_list).value_counts()"
   ]
  },
  {
   "cell_type": "code",
   "execution_count": 116,
   "metadata": {},
   "outputs": [
    {
     "data": {
      "image/png": "[encoded data removed]",
      "text/plain": [
       "<Figure size 600x400 with 1 Axes>"
      ]
     },
     "metadata": {},
     "output_type": "display_data"
    }
   ],
   "source": [
    "# Skill distribution visualization\n",
    "plt.figure(figsize=(6,4))\n",
    "skill_counts[:20].plot(kind='bar', color='skyblue')\n",
    "plt.title(\"Entity Label Distribution\")\n",
    "plt.xlabel(\"Label\")\n",
    "plt.ylabel(\"Count\")\n",
    "plt.tight_layout()\n",
    "plt.show()"
   ]
  }
 ],
 "metadata": {
  "colab": {
   "history_visible": true,
   "provenance": []
  },
  "kernelspec": {
   "display_name": "Python (torch-env)",
   "language": "python",
   "name": "torch-env"
  },
  "language_info": {
   "codemirror_mode": {
    "name": "ipython",
    "version": 3
   },
   "file_extension": ".py",
   "mimetype": "text/x-python",
   "name": "python",
   "nbconvert_exporter": "python",
   "pygments_lexer": "ipython3",
   "version": "3.12.12"
  }
 },
 "nbformat": 4,
 "nbformat_minor": 4
}
